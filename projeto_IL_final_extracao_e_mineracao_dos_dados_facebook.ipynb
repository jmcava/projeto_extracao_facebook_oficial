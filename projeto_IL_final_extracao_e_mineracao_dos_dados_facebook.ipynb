{
  "nbformat": 4,
  "nbformat_minor": 0,
  "metadata": {
    "colab": {
      "name": "projeto_IL_final_extracao_e_mineracao_dos_dados_facebook",
      "provenance": [],
      "authorship_tag": "ABX9TyOBlastZFlCCfLTwPTzUqey",
      "include_colab_link": true
    },
    "kernelspec": {
      "name": "python3",
      "display_name": "Python 3"
    },
    "language_info": {
      "name": "python"
    }
  },
  "cells": [
    {
      "cell_type": "markdown",
      "metadata": {
        "id": "view-in-github",
        "colab_type": "text"
      },
      "source": [
        "<a href=\"https://colab.research.google.com/github/jmcava/projeto_extracao_facebook_oficial/blob/main/projeto_IL_final_extracao_e_mineracao_dos_dados_facebook.ipynb\" target=\"_parent\"><img src=\"https://colab.research.google.com/assets/colab-badge.svg\" alt=\"Open In Colab\"/></a>"
      ]
    },
    {
      "cell_type": "markdown",
      "source": [
        "**Importação das bibliotecas**"
      ],
      "metadata": {
        "id": "XI3y1SWjeAwz"
      }
    },
    {
      "cell_type": "code",
      "source": [
        "!pip install facebook-sdk"
      ],
      "metadata": {
        "colab": {
          "base_uri": "https://localhost:8080/"
        },
        "id": "KXu3y1z6eblx",
        "outputId": "c23b7fd2-77fd-480f-e05f-1c1804026d03"
      },
      "execution_count": 1,
      "outputs": [
        {
          "output_type": "stream",
          "name": "stdout",
          "text": [
            "Collecting facebook-sdk\n",
            "  Downloading facebook_sdk-3.1.0-py2.py3-none-any.whl (7.5 kB)\n",
            "Requirement already satisfied: requests in /usr/local/lib/python3.10/dist-packages (from facebook-sdk) (2.27.1)\n",
            "Requirement already satisfied: urllib3<1.27,>=1.21.1 in /usr/local/lib/python3.10/dist-packages (from requests->facebook-sdk) (1.26.16)\n",
            "Requirement already satisfied: certifi>=2017.4.17 in /usr/local/lib/python3.10/dist-packages (from requests->facebook-sdk) (2023.5.7)\n",
            "Requirement already satisfied: charset-normalizer~=2.0.0 in /usr/local/lib/python3.10/dist-packages (from requests->facebook-sdk) (2.0.12)\n",
            "Requirement already satisfied: idna<4,>=2.5 in /usr/local/lib/python3.10/dist-packages (from requests->facebook-sdk) (3.4)\n",
            "Installing collected packages: facebook-sdk\n",
            "Successfully installed facebook-sdk-3.1.0\n"
          ]
        }
      ]
    },
    {
      "cell_type": "code",
      "source": [
        "import facebook\n",
        "import requests\n",
        "import pandas as pd\n",
        "import numpy as np\n"
      ],
      "metadata": {
        "id": "Sne7m9oYha-q"
      },
      "execution_count": 2,
      "outputs": []
    },
    {
      "cell_type": "code",
      "source": [
        "!pip install plotly --upgrade"
      ],
      "metadata": {
        "colab": {
          "base_uri": "https://localhost:8080/"
        },
        "id": "i1SuMduujB4N",
        "outputId": "6074af8a-40c2-4d56-8239-6ba62611534a"
      },
      "execution_count": 3,
      "outputs": [
        {
          "output_type": "stream",
          "name": "stdout",
          "text": [
            "Requirement already satisfied: plotly in /usr/local/lib/python3.10/dist-packages (5.13.1)\n",
            "Collecting plotly\n",
            "  Downloading plotly-5.15.0-py2.py3-none-any.whl (15.5 MB)\n",
            "\u001b[2K     \u001b[90m━━━━━━━━━━━━━━━━━━━━━━━━━━━━━━━━━━━━━━━━\u001b[0m \u001b[32m15.5/15.5 MB\u001b[0m \u001b[31m66.8 MB/s\u001b[0m eta \u001b[36m0:00:00\u001b[0m\n",
            "\u001b[?25hRequirement already satisfied: tenacity>=6.2.0 in /usr/local/lib/python3.10/dist-packages (from plotly) (8.2.2)\n",
            "Requirement already satisfied: packaging in /usr/local/lib/python3.10/dist-packages (from plotly) (23.1)\n",
            "Installing collected packages: plotly\n",
            "  Attempting uninstall: plotly\n",
            "    Found existing installation: plotly 5.13.1\n",
            "    Uninstalling plotly-5.13.1:\n",
            "      Successfully uninstalled plotly-5.13.1\n",
            "Successfully installed plotly-5.15.0\n"
          ]
        }
      ]
    },
    {
      "cell_type": "code",
      "source": [
        "import plotly.express as px"
      ],
      "metadata": {
        "id": "EXdYr5hMuNeL"
      },
      "execution_count": null,
      "outputs": []
    },
    {
      "cell_type": "markdown",
      "source": [
        "**Obtenção token temporário**"
      ],
      "metadata": {
        "id": "0GX7I0tDyCTW"
      }
    },
    {
      "cell_type": "code",
      "source": [
        "app_secret = '3584b509a6652ef4a49ae7eb68a625f2'\n",
        "# 1 hora\n",
        "user_short_token = 'EAAZAUTnCFGMEBAKmgaK1AMoO5LeVbZAtGW8A5ErogtzZAQ38uONPTfPVF2SRWuXGuOeLoz31Qpfg7VQRdatLezkPdX9ucB7YKfOZBkcacU31ykB2EpZAuxzjOtoYKTaPqPHZC61FKtRZCfKhaxBZBi8dT9uGt1kRZA9g9lTk5H2DBZC68Qi7qFOZBw146h87P6i0uUoZAAQZApRZCZCSo8xo9dQGJsafLpHy2EyMhWfpOP3tLbU8uMrDc1x8veieZBqzdyZBx2XwZD'"
      ],
      "metadata": {
        "id": "UGgqz2R3yJuo"
      },
      "execution_count": 4,
      "outputs": []
    },
    {
      "cell_type": "code",
      "source": [
        "url = 'https://graph.facebook.com/oauth/access_token'"
      ],
      "metadata": {
        "id": "F84FhzbZWq1G"
      },
      "execution_count": 5,
      "outputs": []
    },
    {
      "cell_type": "code",
      "source": [
        "parameters = {'grant_type': 'fb_exchange_token',\n",
        "            'client_id': app_id,\n",
        "            'client_secret': app_secret,\n",
        "            'fb_exchange_token': user_short_token}"
      ],
      "metadata": {
        "id": "VdI0maEPzB4v",
        "colab": {
          "base_uri": "https://localhost:8080/",
          "height": 217
        },
        "outputId": "d653fd50-d71f-42e9-868c-78a1aa446c52"
      },
      "execution_count": 6,
      "outputs": [
        {
          "output_type": "error",
          "ename": "NameError",
          "evalue": "ignored",
          "traceback": [
            "\u001b[0;31m---------------------------------------------------------------------------\u001b[0m",
            "\u001b[0;31mNameError\u001b[0m                                 Traceback (most recent call last)",
            "\u001b[0;32m<ipython-input-6-f2f8978b64ad>\u001b[0m in \u001b[0;36m<cell line: 1>\u001b[0;34m()\u001b[0m\n\u001b[1;32m      1\u001b[0m parameters = {'grant_type': 'fb_exchange_token',\n\u001b[0;32m----> 2\u001b[0;31m             \u001b[0;34m'client_id'\u001b[0m\u001b[0;34m:\u001b[0m \u001b[0mapp_id\u001b[0m\u001b[0;34m,\u001b[0m\u001b[0;34m\u001b[0m\u001b[0;34m\u001b[0m\u001b[0m\n\u001b[0m\u001b[1;32m      3\u001b[0m             \u001b[0;34m'client_secret'\u001b[0m\u001b[0;34m:\u001b[0m \u001b[0mapp_secret\u001b[0m\u001b[0;34m,\u001b[0m\u001b[0;34m\u001b[0m\u001b[0;34m\u001b[0m\u001b[0m\n\u001b[1;32m      4\u001b[0m             'fb_exchange_token': user_short_token}\n",
            "\u001b[0;31mNameError\u001b[0m: name 'app_id' is not defined"
          ]
        }
      ]
    },
    {
      "cell_type": "code",
      "source": [
        "response = requests.get(url, params=parameters)"
      ],
      "metadata": {
        "id": "KCqadhHdCfAb"
      },
      "execution_count": null,
      "outputs": []
    },
    {
      "cell_type": "code",
      "source": [
        "response"
      ],
      "metadata": {
        "id": "wmcR_N-LmH3_"
      },
      "execution_count": null,
      "outputs": []
    },
    {
      "cell_type": "code",
      "source": [
        "response_json = response.json()\n",
        "response_json"
      ],
      "metadata": {
        "id": "avFu_-MBmVxk"
      },
      "execution_count": null,
      "outputs": []
    },
    {
      "cell_type": "code",
      "source": [
        "# 2 meses\n",
        "user_long_token = response_json['access_token']\n",
        "user_long_token"
      ],
      "metadata": {
        "id": "wFyiKeVPmowA"
      },
      "execution_count": null,
      "outputs": []
    },
    {
      "cell_type": "markdown",
      "source": [
        "**Obtenção de token permanente**"
      ],
      "metadata": {
        "id": "wN2WPhH3nmYn"
      }
    },
    {
      "cell_type": "code",
      "source": [
        "graph = facebook.GraphAPI(access_token=user_long_token, version='3.1')"
      ],
      "metadata": {
        "id": "synQ-92CnxGM"
      },
      "execution_count": null,
      "outputs": []
    },
    {
      "cell_type": "code",
      "source": [
        "\n",
        "\n",
        "dados_pagina = graph.get_object('/me/accounts')\n",
        "dados_pagina"
      ],
      "metadata": {
        "id": "11Ln2DJYqE2f"
      },
      "execution_count": null,
      "outputs": []
    },
    {
      "cell_type": "code",
      "source": [
        "permanente_page_token = dados_pagina['data'][0]['access_token']\n",
        "permanente_page_token"
      ],
      "metadata": {
        "id": "JxfjB0kkreSZ"
      },
      "execution_count": null,
      "outputs": []
    },
    {
      "cell_type": "code",
      "source": [
        "page_id = dados_pagina['data'][0]['id']\n",
        "page_id"
      ],
      "metadata": {
        "id": "HDIuMdm_SK68"
      },
      "execution_count": null,
      "outputs": []
    },
    {
      "cell_type": "markdown",
      "source": [
        "**Informações básicas da página**\n",
        "\n",
        ". Documentação: https://developers.facebook.com/docs/graph-api\n",
        "\n",
        "\n"
      ],
      "metadata": {
        "id": "XIdTGDxrQ4_7"
      }
    },
    {
      "cell_type": "code",
      "source": [
        "graph = facebook.GraphAPI(access_token=permanente_page_token, version = '3.1')"
      ],
      "metadata": {
        "id": "xoPpxNwnZN1Z"
      },
      "execution_count": null,
      "outputs": []
    },
    {
      "cell_type": "code",
      "source": [
        "graph.get_object(id=page_id, fields='category')"
      ],
      "metadata": {
        "id": "-kwtQJ03hVbj"
      },
      "execution_count": null,
      "outputs": []
    },
    {
      "cell_type": "code",
      "source": [
        "graph.get_object(id=page_id, fields='name')"
      ],
      "metadata": {
        "id": "rMHjymaQhsz2"
      },
      "execution_count": null,
      "outputs": []
    },
    {
      "cell_type": "code",
      "source": [
        "graph.get_object(id=page_id)"
      ],
      "metadata": {
        "id": "Jo0IYiDaiKDu"
      },
      "execution_count": null,
      "outputs": []
    },
    {
      "cell_type": "code",
      "source": [
        "graph.get_object(id=page_id, fields='about,website')"
      ],
      "metadata": {
        "id": "XaZdFDsbigOV"
      },
      "execution_count": null,
      "outputs": []
    },
    {
      "cell_type": "code",
      "source": [
        "graph.get_object(id=page_id, fields='fan_count')"
      ],
      "metadata": {
        "id": "HQbMDisxjHhR"
      },
      "execution_count": null,
      "outputs": []
    },
    {
      "cell_type": "code",
      "source": [
        "graph.get_object(id=page_id, fields='birthday')"
      ],
      "metadata": {
        "id": "nMLZZc24jXhl"
      },
      "execution_count": null,
      "outputs": []
    },
    {
      "cell_type": "code",
      "source": [
        "graph.get_object(id=page_id, fields='engagement')"
      ],
      "metadata": {
        "id": "x7JhQWWFjm6T"
      },
      "execution_count": null,
      "outputs": []
    },
    {
      "cell_type": "code",
      "source": [
        "graph.get_object(id=page_id, fields='followers_count')"
      ],
      "metadata": {
        "id": "6BbMHHJ0kHAS"
      },
      "execution_count": null,
      "outputs": []
    },
    {
      "cell_type": "markdown",
      "source": [
        "**Informações sobre os fãs da página**"
      ],
      "metadata": {
        "id": "-P5I770X0W6r"
      }
    },
    {
      "cell_type": "markdown",
      "source": [
        "Fãs por data"
      ],
      "metadata": {
        "id": "FDIz8F_uQTjF"
      }
    },
    {
      "cell_type": "code",
      "source": [
        "graph.get_connections(id = page_id, connection_name='insights', metric='page_fans')"
      ],
      "metadata": {
        "id": "NeL7TegGP-3c"
      },
      "execution_count": null,
      "outputs": []
    },
    {
      "cell_type": "code",
      "source": [
        "fas = graph.get_connections(id=page_id, connection_name='insights', metric='page_fans',\n",
        "                            since = '2022-02-02', until = '2022-05-06')"
      ],
      "metadata": {
        "id": "5S_ES0lBzQ5B"
      },
      "execution_count": null,
      "outputs": []
    },
    {
      "cell_type": "code",
      "source": [
        "type(fas), type(fas['data'])"
      ],
      "metadata": {
        "id": "MMB1hSy9c1JM"
      },
      "execution_count": null,
      "outputs": []
    },
    {
      "cell_type": "code",
      "source": [
        "fas"
      ],
      "metadata": {
        "id": "ZL96P1TYcAjM"
      },
      "execution_count": null,
      "outputs": []
    },
    {
      "cell_type": "code",
      "source": [
        "fas['data'][0]"
      ],
      "metadata": {
        "id": "hy3euOJzIbBl"
      },
      "execution_count": null,
      "outputs": []
    },
    {
      "cell_type": "code",
      "source": [
        "fas ['data'][0]['values']"
      ],
      "metadata": {
        "id": "-BlkfRcYIFgP"
      },
      "execution_count": null,
      "outputs": []
    },
    {
      "cell_type": "code",
      "source": [
        "dataframe_facebook = pd.DataFrame(fas['data'][0]['values'])#criarção dataFrame\n",
        "dataframe_facebook.rename(columns={'value':'numero fas','end_time':'data'},inplace=True)\n",
        "dataframe_facebook['data'] = pd.to_datetime(dataframe_facebook['data'])\n",
        "dataframe_facebook['data'] = dataframe_facebook['data'].dt.strftime('%Y-%m-%d')\n",
        "dataframe_facebook"
      ],
      "metadata": {
        "id": "4rQExLbSdxDq"
      },
      "execution_count": null,
      "outputs": []
    },
    {
      "cell_type": "code",
      "source": [
        "grafico = px.line(dataframe_facebook, x = 'data', y = 'numero fas', title = 'Numero de fãs por dia')\n",
        "grafico.show()\n"
      ],
      "metadata": {
        "id": "h4qznvD6ouEO"
      },
      "execution_count": null,
      "outputs": []
    },
    {
      "cell_type": "markdown",
      "source": [
        "Fãs por idioma"
      ],
      "metadata": {
        "id": "jRatpJpTy08x"
      }
    },
    {
      "cell_type": "code",
      "source": [
        "fas_idioma = graph.get_connections(id=page_id, connection_name='insights', metric = 'page_fans_locale',\n",
        "                                   since = '2022-02-02', until = '2022-05-04')\n",
        "fas_idioma"
      ],
      "metadata": {
        "id": "I9CJ1XRuos6K"
      },
      "execution_count": null,
      "outputs": []
    },
    {
      "cell_type": "code",
      "source": [
        "fas_idioma['data'][0]['values'][0]['value']#monta o dataFrame dos idiomas"
      ],
      "metadata": {
        "id": "ZdZ_anjSuRbR"
      },
      "execution_count": null,
      "outputs": []
    },
    {
      "cell_type": "code",
      "source": [
        "fas_idioma_df = pd.DataFrame.from_dict(fas_idioma['data'][0]['values'][0]['value'], orient='index')\n",
        "fas_idioma_df.reset_index(inplace=True)\n",
        "fas_idioma_df.rename(columns={'index': 'idioma', 0: 'quantidade'}, inplace=True)\n",
        "fas_idioma_df\n"
      ],
      "metadata": {
        "id": "SnRMayLOQYqu"
      },
      "execution_count": null,
      "outputs": []
    },
    {
      "cell_type": "code",
      "source": [
        "grafico = px.bar(fas_idioma_df, x='idioma', y='quantidade', title='Fãs por idioma')\n",
        "grafico.show()"
      ],
      "metadata": {
        "id": "laD7rT1-aXj4"
      },
      "execution_count": null,
      "outputs": []
    },
    {
      "cell_type": "markdown",
      "source": [
        "Fãs por cidade"
      ],
      "metadata": {
        "id": "miWG7ijPbwUV"
      }
    },
    {
      "cell_type": "code",
      "source": [
        "fas_cidade = graph.get_connections(id=page_id, connection_name='insights', metric='page_fans_city',\n",
        "                                   since = '2022-02-02', until='2022-05-04')\n",
        "fas_cidade"
      ],
      "metadata": {
        "id": "Ew_PhDeCy7Mt"
      },
      "execution_count": null,
      "outputs": []
    },
    {
      "cell_type": "code",
      "source": [
        "fas_cidade['data'][0]['values'][0]['value']"
      ],
      "metadata": {
        "id": "CULNud-XhEtj"
      },
      "execution_count": null,
      "outputs": []
    },
    {
      "cell_type": "code",
      "source": [
        "fas_cidade_df = pd.DataFrame.from_dict(fas_cidade['data'][0]['values'][0]['value'], orient='index')\n",
        "fas_cidade_df.reset_index(inplace=True)\n",
        "fas_cidade_df.rename(columns={'index': 'cidade', 0: 'quantidade'}, inplace=True)\n",
        "fas_cidade_df"
      ],
      "metadata": {
        "id": "h7hH62MPiEYF"
      },
      "execution_count": null,
      "outputs": []
    },
    {
      "cell_type": "code",
      "source": [
        "grafico =px.bar(fas_cidade_df, x = 'cidade', y='quantidade', title = 'Fãs por cidade')\n",
        "grafico.show()"
      ],
      "metadata": {
        "id": "QtdSarEinqdD"
      },
      "execution_count": null,
      "outputs": []
    },
    {
      "cell_type": "code",
      "source": [
        "grafico = px.treemap(fas_cidade_df, path = ['cidade'])\n",
        "grafico"
      ],
      "metadata": {
        "id": "VgvT9LS2piGG"
      },
      "execution_count": null,
      "outputs": []
    },
    {
      "cell_type": "code",
      "source": [
        "fas_pais = graph.get_connections(id=page_id, connection_name='insights', metric='page_fans_country',\n",
        "                                   since = '2022-02-02', until='2022-05-04')\n",
        "fas_pais"
      ],
      "metadata": {
        "id": "MUPXWnc0rkaS"
      },
      "execution_count": null,
      "outputs": []
    },
    {
      "cell_type": "code",
      "source": [
        "fas_pais['data'][0]['values'][0]['value']"
      ],
      "metadata": {
        "id": "DgWH3PlgzBX0"
      },
      "execution_count": null,
      "outputs": []
    },
    {
      "cell_type": "code",
      "source": [
        "fas_pais_df = pd.DataFrame.from_dict(fas_pais['data'][0]['values'][0]['value'], orient='index')\n",
        "fas_pais_df.reset_index(inplace=True)\n",
        "fas_pais_df.rename(columns={\"index\": \"pais\", 0: \"quantidade\"}, inplace=True)\n",
        "fas_pais_df"
      ],
      "metadata": {
        "id": "7AIh7ceFzdh8"
      },
      "execution_count": null,
      "outputs": []
    },
    {
      "cell_type": "code",
      "source": [
        "grafico = px.bar(fas_pais_df, x=\"pais\", y=\"quantidade\", title = 'Fãs por país')\n",
        "grafico.show()"
      ],
      "metadata": {
        "id": "jycZtvFq0Gz4"
      },
      "execution_count": null,
      "outputs": []
    },
    {
      "cell_type": "code",
      "source": [
        "grafico = px.treemap(fas_pais_df, path = ['pais'])\n",
        "grafico"
      ],
      "metadata": {
        "id": "g6_IIlmt2UhY"
      },
      "execution_count": null,
      "outputs": []
    },
    {
      "cell_type": "markdown",
      "source": [
        "Fãs por idade e gênero"
      ],
      "metadata": {
        "id": "PCgn47Gw208V"
      }
    },
    {
      "cell_type": "code",
      "source": [
        "fas_idade_genero = graph.get_connections(id=page_id, connection_name='insights', metric='page_fans_gender_age',\n",
        "                                   since = '2022-02-02', until='2022-05-04')\n",
        "fas_idade_genero"
      ],
      "metadata": {
        "id": "0_M2Ylvr26iz"
      },
      "execution_count": null,
      "outputs": []
    },
    {
      "cell_type": "code",
      "source": [
        "fas_idade_genero_df = pd.DataFrame.from_dict(fas_idade_genero['data'][0]['values'][0]['value'], orient='index')\n",
        "fas_idade_genero_df.reset_index(inplace=True)\n",
        "fas_idade_genero_df.rename(columns={\"index\": \"idade genero\", 0: \"quantidade\"}, inplace=True)\n",
        "fas_idade_genero_df"
      ],
      "metadata": {
        "id": "1mRd4ih83nPH"
      },
      "execution_count": null,
      "outputs": []
    },
    {
      "cell_type": "code",
      "source": [
        "grafico = px.bar(fas_idade_genero_df, x=\"idade genero\", y=\"quantidade\", title = 'Fãs por idade e gênero')\n",
        "grafico.show()"
      ],
      "metadata": {
        "id": "fg84vmLa4OEg"
      },
      "execution_count": null,
      "outputs": []
    },
    {
      "cell_type": "markdown",
      "source": [
        "Curtidas e descurtidas por período"
      ],
      "metadata": {
        "id": "rbAshrIRlRCO"
      }
    },
    {
      "cell_type": "code",
      "source": [
        "curtidas = graph.get_connections(id=page_id, connection_name='insights', metric='page_fan_adds',\n",
        "                                 since = '2022-02-02', until='2022-05-04')\n",
        "curtidas\n",
        ""
      ],
      "metadata": {
        "id": "ZvRQAm_ilZFS"
      },
      "execution_count": null,
      "outputs": []
    },
    {
      "cell_type": "code",
      "source": [
        "curtidas['data'][0]['values']"
      ],
      "metadata": {
        "id": "sxMTjUEi0Bc5"
      },
      "execution_count": null,
      "outputs": []
    },
    {
      "cell_type": "code",
      "source": [
        "numero_curtidas = []\n",
        "for i in curtidas['data'][0]['values']:\n",
        "  #print(i['value'])\n",
        "  numero_curtidas.append(i['value'])\n",
        "numero_curtidas = np.array(numero_curtidas)#conversão de uma lista para um array"
      ],
      "metadata": {
        "id": "ejxf8JS5oFIq"
      },
      "execution_count": null,
      "outputs": []
    },
    {
      "cell_type": "code",
      "source": [
        "numero_curtidas"
      ],
      "metadata": {
        "id": "0_FGn9MfpbyT"
      },
      "execution_count": null,
      "outputs": []
    },
    {
      "cell_type": "code",
      "source": [
        "descurtidas = graph.get_connections(id=page_id, connection_name='insights', metric='page_fan_removes',\n",
        "                                    since = '2022-02-02', until = '2022-05-04')\n",
        "descurtidas"
      ],
      "metadata": {
        "id": "Gi0XNLILqW1v"
      },
      "execution_count": null,
      "outputs": []
    },
    {
      "cell_type": "code",
      "source": [
        "numero_descurtidas = []\n",
        "for i in descurtidas['data'][0]['values']:\n",
        "  numero_descurtidas.append(i['value'])\n",
        "numero_descurtidas = np.array(numero_descurtidas)"
      ],
      "metadata": {
        "id": "oWjooO3PrH3f"
      },
      "execution_count": null,
      "outputs": []
    },
    {
      "cell_type": "code",
      "source": [
        "numero_descurtidas"
      ],
      "metadata": {
        "id": "RBrDLOTcr-DG"
      },
      "execution_count": null,
      "outputs": []
    },
    {
      "cell_type": "code",
      "source": [
        "len(dataframe_facebook), len(numero_curtidas), len(numero_descurtidas)"
      ],
      "metadata": {
        "id": "7BkHq3e2NiYe"
      },
      "execution_count": null,
      "outputs": []
    },
    {
      "cell_type": "code",
      "source": [
        "dataframe_facebook['numero curtidas'] = numero_curtidas\n",
        "dataframe_facebook['numero descurtidas'] = numero_descurtidas\n",
        "dataframe_facebook"
      ],
      "metadata": {
        "id": "dekjrrrKgQdO"
      },
      "execution_count": null,
      "outputs": []
    },
    {
      "cell_type": "code",
      "source": [
        "dataframe_facebook.describe()"
      ],
      "metadata": {
        "id": "YqBJskLktm9B"
      },
      "execution_count": null,
      "outputs": []
    },
    {
      "cell_type": "code",
      "source": [
        "dataframe_facebook[dataframe_facebook['numero curtidas'] == 18]"
      ],
      "metadata": {
        "id": "VcsxU3r8hyze"
      },
      "execution_count": null,
      "outputs": []
    },
    {
      "cell_type": "code",
      "source": [
        "dataframe_facebook[dataframe_facebook['numero descurtidas'] == 20]"
      ],
      "metadata": {
        "id": "wP0LlnpWiW5S"
      },
      "execution_count": null,
      "outputs": []
    },
    {
      "cell_type": "code",
      "source": [
        "grafico = px.line(title = 'Curtidas x Descurtidas')\n",
        "grafico.add_scatter(x = dataframe_facebook['data'], y = dataframe_facebook['numero curtidas'], name = 'Curtidas')\n",
        "grafico.add_scatter(x = dataframe_facebook['data'], y = dataframe_facebook['numero descurtidas'], name = 'Descurtidas')\n",
        "grafico.show()"
      ],
      "metadata": {
        "id": "1THZ8EP8kaLJ"
      },
      "execution_count": null,
      "outputs": []
    },
    {
      "cell_type": "code",
      "source": [
        "dataframe_facebook['numero curtidas'].sum(), dataframe_facebook['numero descurtidas'].sum()"
      ],
      "metadata": {
        "id": "-K6JLemxs1BY"
      },
      "execution_count": null,
      "outputs": []
    },
    {
      "cell_type": "code",
      "source": [
        "166 + 27, (27 / 193) * 100 # a porcentagem em relação a 166 curtidas equivalente a 13,99% onde o resultado são 27 descurtidas"
      ],
      "metadata": {
        "id": "c7hAvPpHtJdn"
      },
      "execution_count": null,
      "outputs": []
    },
    {
      "cell_type": "code",
      "source": [
        "descurtidas_tipo = graph.get_connections(id=page_id, connection_name='insights', metric='page_fans_by_unlike_source_unique',\n",
        "                                             since = '2022-02-02', until = '2022-05-04')\n",
        "descurtidas_tipo"
      ],
      "metadata": {
        "id": "3pir6khdy-7f"
      },
      "execution_count": null,
      "outputs": []
    },
    {
      "cell_type": "code",
      "source": [
        "motivos = {}\n",
        "for i in descurtidas_tipo['data'][0]['values']:\n",
        "  print(i)"
      ],
      "metadata": {
        "id": "IvxPJ-iXhvnP"
      },
      "execution_count": null,
      "outputs": []
    },
    {
      "cell_type": "code",
      "source": [
        "motivos = {}\n",
        "for i in descurtidas_tipo['data'][0]['values']:\n",
        "  #print(i)\n",
        "  if i ['value']:\n",
        "    #print(i)\n",
        "    print('---------------')\n",
        "    print(i['value'])\n",
        "    for k, v in i['value'].items():\n",
        "      print(k,v)"
      ],
      "metadata": {
        "id": "r5XM1NDKicCp"
      },
      "execution_count": null,
      "outputs": []
    },
    {
      "cell_type": "code",
      "source": [
        "motivos = {}\n",
        "for i in descurtidas_tipo['data'][0]['values']:\n",
        "  if i['value']:\n",
        "    for k in i['value'].items():\n",
        "      if k in motivos:\n",
        "        motivos[k] += v\n",
        "      else:\n",
        "        motivos[k] = v"
      ],
      "metadata": {
        "id": "2W4fagNfkAF0"
      },
      "execution_count": null,
      "outputs": []
    },
    {
      "cell_type": "code",
      "source": [
        "motivos"
      ],
      "metadata": {
        "id": "WCYU4p7kld9r"
      },
      "execution_count": null,
      "outputs": []
    },
    {
      "cell_type": "code",
      "source": [
        "motivos_df = pd.DataFrame.from_dict(motivos, orient='index')\n",
        "motivos_df.reset_index(inplace=True)\n",
        "motivos_df.rename(columns={'index': 'motivo', 0: 'quantidade'}, inplace=True)\n",
        "motivos_df\n"
      ],
      "metadata": {
        "id": "D6fR9ucRmSSr"
      },
      "execution_count": null,
      "outputs": []
    },
    {
      "cell_type": "code",
      "source": [
        "grafico = px.bar(motivos_df, x = 'motivo', y = 'quantidade', title = 'Motivos das descurtidas na página')\n",
        "grafico.show()"
      ],
      "metadata": {
        "id": "q_LWtAWNt2px"
      },
      "execution_count": null,
      "outputs": []
    },
    {
      "cell_type": "code",
      "source": [
        "166 + 8, (8 / 174) * 100 # ou seja 4,59% dos posts obtiveram negativas em diversas"
      ],
      "metadata": {
        "id": "qgI5FFVAvJL6"
      },
      "execution_count": null,
      "outputs": []
    },
    {
      "cell_type": "markdown",
      "source": [
        "VISUALIZAÇÃO DE ABAS"
      ],
      "metadata": {
        "id": "zHs6rwVK8IeG"
      }
    },
    {
      "cell_type": "code",
      "source": [
        "visualizacao_abas = graph.get_connections(id=page_id, connection_name='insights', metric = 'page_tab_views_login_top_unique',\n",
        "                                          since = '2022-02-02', until = '2022-05-04')\n",
        "visualizacao_abas"
      ],
      "metadata": {
        "id": "9MAqm6iQSQQf"
      },
      "execution_count": null,
      "outputs": []
    },
    {
      "cell_type": "markdown",
      "source": [
        "# Nova seção"
      ],
      "metadata": {
        "id": "XDZyUEGLpWhu"
      }
    },
    {
      "cell_type": "code",
      "source": [
        "fonte_visualizacao = {}\n",
        "for i in visualizacao_abas['data'][0]['values']:\n",
        "  print(i)\n",
        "  if i['value']:\n",
        "    for k, v in i['value'].items():\n",
        "      print(k,v)"
      ],
      "metadata": {
        "id": "qIGx24Kbnbyi"
      },
      "execution_count": null,
      "outputs": []
    },
    {
      "cell_type": "code",
      "source": [
        "fonte_visualizacao = {}\n",
        "for i in visualizacao_abas['data'][0]['values']:\n",
        "  #print(i)\n",
        "  if i['value']:\n",
        "    for k, v in i['value'].items():\n",
        "      #print(k,v)\n",
        "      if k in fonte_visualizacao:\n",
        "        fonte_visualizacao[k] +=v\n",
        "      else:\n",
        "        fonte_visualizacao[k] = v"
      ],
      "metadata": {
        "id": "-nTAlNA7ohE5"
      },
      "execution_count": null,
      "outputs": []
    },
    {
      "cell_type": "code",
      "source": [
        "fonte_visualizacao"
      ],
      "metadata": {
        "id": "7YBIjAiSpbhB"
      },
      "execution_count": null,
      "outputs": []
    },
    {
      "cell_type": "code",
      "source": [
        "fonte_visualizacao_df = pd.DataFrame.from_dict(fonte_visualizacao, orient='index')\n",
        "fonte_visualizacao_df.reset_index(inplace=True)\n",
        "fonte_visualizacao_df.rename(columns={\"index\": \"fonte\", 0: \"quantidade\"}, inplace=True)\n",
        "fonte_visualizacao_df"
      ],
      "metadata": {
        "id": "fhLpwiiDpqcA"
      },
      "execution_count": null,
      "outputs": []
    },
    {
      "cell_type": "code",
      "source": [
        "grafico = px.bar(fonte_visualizacao_df, x='fonte', y=\"quantidade\", title = \"Visualização por abas\")\n",
        "grafico.show()"
      ],
      "metadata": {
        "id": "SR0ObglgrqoG"
      },
      "execution_count": null,
      "outputs": []
    },
    {
      "cell_type": "code",
      "source": [
        "cliques_contato_acao = graph.get_connections(id=page_id, connection_name='insights', metric = 'page_total_actions',\n",
        "                                             since = '2022-02-02', until = '2022-05-04')\n",
        "cliques_contato_acao\n"
      ],
      "metadata": {
        "id": "42cKRez8sLLH"
      },
      "execution_count": null,
      "outputs": []
    },
    {
      "cell_type": "code",
      "source": [
        "numero_cliques_contato_acao = []\n",
        "for i in cliques_contato_acao['data'][0]['values']:\n",
        "  print(i)"
      ],
      "metadata": {
        "id": "WapggoHG1dS7"
      },
      "execution_count": null,
      "outputs": []
    },
    {
      "cell_type": "code",
      "source": [
        "numero_cliques_contato_acao = []\n",
        "for i in cliques_contato_acao['data'][0]['values']:\n",
        "  #print(i)\n",
        "  numero_cliques_contato_acao.append(i['value'])\n",
        "numero_cliques_contato_acao = np.array(numero_cliques_contato_acao)"
      ],
      "metadata": {
        "id": "5PA10up52Qwk"
      },
      "execution_count": null,
      "outputs": []
    },
    {
      "cell_type": "code",
      "source": [
        "numero_cliques_contato_acao"
      ],
      "metadata": {
        "id": "Xovq_Rhk2uGc"
      },
      "execution_count": null,
      "outputs": []
    },
    {
      "cell_type": "code",
      "source": [
        "len(numero_cliques_contato_acao)"
      ],
      "metadata": {
        "id": "dN6dRAf3228Q"
      },
      "execution_count": null,
      "outputs": []
    },
    {
      "cell_type": "code",
      "source": [
        "dataframe_facebook['numero cliques contato acao'] = numero_cliques_contato_acao\n",
        "dataframe_facebook"
      ],
      "metadata": {
        "id": "QwxleiOH3FiG"
      },
      "execution_count": null,
      "outputs": []
    },
    {
      "cell_type": "code",
      "source": [
        "dataframe_facebook['numero cliques contato acao'].describe()"
      ],
      "metadata": {
        "id": "NFCXburJ3Zus"
      },
      "execution_count": null,
      "outputs": []
    },
    {
      "cell_type": "code",
      "source": [
        "grafico = px.line(dataframe_facebook, x=\"data\", y=\"numero cliques contato acao\", title = 'Número de cliques em contato')\n",
        "grafico.show()"
      ],
      "metadata": {
        "id": "mbSP3_Ym3sPp"
      },
      "execution_count": null,
      "outputs": []
    },
    {
      "cell_type": "code",
      "source": [
        "engajamento = graph.get_connections(id=page_id, connection_name='insights', metric='page_engaged_users',\n",
        "                                        since = '2022-02-02', until = '2022-05-04')\n",
        "engajamento"
      ],
      "metadata": {
        "id": "-Qwjq0tU5btD"
      },
      "execution_count": null,
      "outputs": []
    },
    {
      "cell_type": "code",
      "source": [
        "engajamento_cliques = []\n",
        "for i in engajamento['data'][0]['values']:\n",
        "  engajamento_cliques.append(i['value'])\n",
        "emgajamento_cliques = np.array(engajamento_cliques)\n",
        ""
      ],
      "metadata": {
        "id": "kebjpiFS7YWP"
      },
      "execution_count": null,
      "outputs": []
    },
    {
      "cell_type": "code",
      "source": [
        "engajamento_cliques"
      ],
      "metadata": {
        "id": "Pwg0qgxS6XVH"
      },
      "execution_count": null,
      "outputs": []
    },
    {
      "cell_type": "code",
      "source": [
        "len(engajamento_cliques)"
      ],
      "metadata": {
        "id": "XPIiREka8d0o"
      },
      "execution_count": null,
      "outputs": []
    },
    {
      "cell_type": "code",
      "source": [
        "dataframe_facebook['numero cliques engajamento'] = engajamento_cliques\n",
        "dataframe_facebook"
      ],
      "metadata": {
        "id": "5COp3d2T8mii"
      },
      "execution_count": null,
      "outputs": []
    },
    {
      "cell_type": "code",
      "source": [
        "grafico = px.line(dataframe_facebook, x=\"data\", y=\"numero cliques engajamento\", title = 'Engajamento - numero de cliques')\n",
        "grafico.show()"
      ],
      "metadata": {
        "id": "5V0xQC329ANq"
      },
      "execution_count": null,
      "outputs": []
    },
    {
      "cell_type": "code",
      "source": [
        "engajamento_tipo = graph.get_connections(id=page_id, connection_name='insights', metric='page_consumptions_by_consumption_type',\n",
        "                                         since = '2022-02-02', until = '2022-05-04')\n",
        "engajamento_tipo"
      ],
      "metadata": {
        "id": "JzTY5AHULgJD"
      },
      "execution_count": null,
      "outputs": []
    },
    {
      "cell_type": "code",
      "source": [
        "fonte_engajamento = {}\n",
        "for i in engajamento_tipo['data'][0]['values']:\n",
        "  if i['value']:\n",
        "    for k, v in i['value'].items():\n",
        "      if k in fonte_engajamento:\n",
        "        fonte_engajamento[k] += v\n",
        "      else:\n",
        "        fonte_engajamento[k] = v"
      ],
      "metadata": {
        "id": "-slI7PdhshK2"
      },
      "execution_count": null,
      "outputs": []
    },
    {
      "cell_type": "code",
      "source": [
        "fonte_engajamento"
      ],
      "metadata": {
        "id": "fqtFld4TyyP_"
      },
      "execution_count": null,
      "outputs": []
    },
    {
      "cell_type": "code",
      "source": [
        "fonte_engajamento_df = pd.DataFrame.from_dict(fonte_engajamento, orient='index')\n",
        "fonte_engajamento_df.reset_index(inplace=True)\n",
        "fonte_engajamento_df.rename(columns={\"index\": \"fonte\", 0: \"quantidade\"}, inplace=True)\n",
        "fonte_engajamento_df"
      ],
      "metadata": {
        "id": "JqqS8BSX7Yux"
      },
      "execution_count": null,
      "outputs": []
    },
    {
      "cell_type": "code",
      "source": [
        "grafico = px.bar(fonte_engajamento_df, x='fonte', y=\"quantidade\", title = 'Fonte do engajamento')\n",
        "grafico.show()"
      ],
      "metadata": {
        "id": "NqVbPoEE8p7U"
      },
      "execution_count": null,
      "outputs": []
    },
    {
      "cell_type": "code",
      "source": [
        "graph.get_connections(id=page_id, connection_name='insights', metric='page_places_checkin_total')"
      ],
      "metadata": {
        "id": "GiECbL0BCIVv"
      },
      "execution_count": null,
      "outputs": []
    },
    {
      "cell_type": "code",
      "source": [
        "acoes_positivas = graph.get_connections(id=page_id, connection_name='insights', metric='page_positive_feedback_by_type',\n",
        "                                        since = '2022-02-02', until = '2022-05-04')"
      ],
      "metadata": {
        "id": "E1Mxy8BdJOuC"
      },
      "execution_count": null,
      "outputs": []
    },
    {
      "cell_type": "code",
      "source": [
        "acoes_positivas"
      ],
      "metadata": {
        "id": "S1JQAFIfKDaE"
      },
      "execution_count": null,
      "outputs": []
    },
    {
      "cell_type": "code",
      "source": [
        "fonte_positivas = {}\n",
        "for i in acoes_positivas['data'][0]['values']:\n",
        "  if i['value']:\n",
        "    for k, v in i['value'].items():\n",
        "      if k in fonte_positivas:\n",
        "        fonte_positivas[k] += v\n",
        "      else:\n",
        "        fonte_positivas[k] = v\n"
      ],
      "metadata": {
        "id": "dMt2y_qTKb4i"
      },
      "execution_count": null,
      "outputs": []
    },
    {
      "cell_type": "code",
      "source": [
        "fonte_positivas"
      ],
      "metadata": {
        "id": "UajT3SNVLbVf"
      },
      "execution_count": null,
      "outputs": []
    },
    {
      "cell_type": "code",
      "source": [
        "fonte_positivas_df = pd.DataFrame.from_dict(fonte_positivas, orient='index')\n",
        "fonte_positivas_df.reset_index(inplace=True)\n",
        "fonte_positivas_df.rename(columns={\"index\": \"fonte\", 0: \"quantidade\"}, inplace=True)\n",
        "fonte_positivas_df"
      ],
      "metadata": {
        "id": "hqIfZHFPPQKn"
      },
      "execution_count": null,
      "outputs": []
    },
    {
      "cell_type": "code",
      "source": [
        "grafico = px.bar(fonte_positivas_df, x='fonte', y=\"quantidade\", title = 'Fonte do positivas')\n",
        "grafico.show()"
      ],
      "metadata": {
        "id": "Jt5YN5nhPzyd"
      },
      "execution_count": null,
      "outputs": []
    },
    {
      "cell_type": "code",
      "source": [
        "acoes_negativas = graph.get_connections(id=page_id, connection_name='insights', metric='page_negative_feedback_by_type',\n",
        "                                        since = '2022-02-02', until = '2022-05-04')\n",
        "acoes_negativas"
      ],
      "metadata": {
        "id": "9i5K_bG2Qbg1"
      },
      "execution_count": null,
      "outputs": []
    },
    {
      "cell_type": "code",
      "source": [
        "fonte_negativas = {}\n",
        "for i in acoes_negativas['data'][0]['values']:\n",
        "  if i['value']:\n",
        "    for k, v in i['value'].items():\n",
        "      if k in fonte_negativas:\n",
        "        fonte_negativas[k] += v\n",
        "      else:\n",
        "        fonte_negativas[k] = v"
      ],
      "metadata": {
        "id": "9LDaEvaDfcp8"
      },
      "execution_count": null,
      "outputs": []
    },
    {
      "cell_type": "code",
      "source": [
        "fonte_negativas"
      ],
      "metadata": {
        "id": "FMG8r5sZfyxD"
      },
      "execution_count": null,
      "outputs": []
    },
    {
      "cell_type": "code",
      "source": [
        "hora_dia = graph.get_connections(id=page_id, connection_name='insights', metric='page_fans_online',\n",
        "                                        since = '2022-02-02', until = '2022-05-04')\n",
        "hora_dia"
      ],
      "metadata": {
        "id": "T982hd4ohGxY"
      },
      "execution_count": null,
      "outputs": []
    },
    {
      "cell_type": "code",
      "source": [
        "visualizacao_hora = {}\n",
        "for i in hora_dia['data'][0]['values']:\n",
        "  if i['value']:\n",
        "    for k, v in i['value'].items():\n",
        "      if k in visualizacao_hora:\n",
        "        visualizacao_hora[k] += v\n",
        "      else:\n",
        "        visualizacao_hora[k] = v"
      ],
      "metadata": {
        "id": "B16osp44hP6D"
      },
      "execution_count": null,
      "outputs": []
    },
    {
      "cell_type": "code",
      "source": [
        "visualizacao_hora"
      ],
      "metadata": {
        "id": "H6rAk1TZimjA"
      },
      "execution_count": null,
      "outputs": []
    },
    {
      "cell_type": "code",
      "source": [
        "hora_dia_df = pd.DataFrame.from_dict(visualizacao_hora, orient='index')\n",
        "hora_dia_df.reset_index(inplace=True)\n",
        "hora_dia_df.rename(columns={\"index\": \"hora\", 0: \"quantidade\"}, inplace=True)\n",
        "hora_dia_df"
      ],
      "metadata": {
        "id": "r3Nz-vmOi8dC"
      },
      "execution_count": null,
      "outputs": []
    },
    {
      "cell_type": "code",
      "source": [
        "grafico = px.bar(hora_dia_df, x='hora', y=\"quantidade\", title = 'Visualizações por hora do dia')\n",
        "grafico.show()"
      ],
      "metadata": {
        "id": "govFLITijsbk"
      },
      "execution_count": null,
      "outputs": []
    },
    {
      "cell_type": "code",
      "source": [
        "curtidas_pagas_nao_pagas = graph.get_connections(id=page_id, connection_name='insights',\n",
        "                                                 metric='page_fan_adds_by_paid_non_paid_unique',\n",
        "                                                 since = '2022-02-02', until = '2022-05-04')\n",
        "curtidas_pagas_nao_pagas"
      ],
      "metadata": {
        "id": "jQQhIDSpvMzB"
      },
      "execution_count": null,
      "outputs": []
    },
    {
      "cell_type": "code",
      "source": [
        "curtidas_pagas = []\n",
        "curtidas_nao_pagas = []\n",
        "for i in curtidas_pagas_nao_pagas['data'][0]['values']:\n",
        "  print(i, i['value']['paid'], i['value']['unpaid'])\n",
        "  curtidas_pagas.append(i['value']['paid'])\n",
        "  curtidas_nao_pagas.append(i['value']['unpaid'])\n",
        "curtidas_pagas = np.array(curtidas_pagas)\n",
        "curtidas_nao_pagas = np.array(curtidas_nao_pagas)"
      ],
      "metadata": {
        "id": "r7WgB9irxhZq"
      },
      "execution_count": null,
      "outputs": []
    },
    {
      "cell_type": "code",
      "source": [
        "curtidas_pagas"
      ],
      "metadata": {
        "id": "QgohJpaFP1K9"
      },
      "execution_count": null,
      "outputs": []
    },
    {
      "cell_type": "code",
      "source": [
        "curtidas_nao_pagas"
      ],
      "metadata": {
        "id": "7OlVi2SFP5ah"
      },
      "execution_count": null,
      "outputs": []
    },
    {
      "cell_type": "code",
      "source": [
        "dataframe_facebook['curtidas pagas'] = curtidas_pagas\n",
        "dataframe_facebook['curtidas nao pagas'] = curtidas_nao_pagas\n",
        "dataframe_facebook"
      ],
      "metadata": {
        "id": "5lW3AbQ3PiZr"
      },
      "execution_count": null,
      "outputs": []
    },
    {
      "cell_type": "code",
      "source": [
        "grafico = px.line(title = 'Curtidas pagas x curtidas não pagas')\n",
        "grafico.add_scatter(x = dataframe_facebook['data'], y = dataframe_facebook['curtidas pagas'], name = 'Curtidas pagas')\n",
        "grafico.add_scatter(x = dataframe_facebook['data'], y = dataframe_facebook['curtidas nao pagas'], name = 'Curtidas não paga')\n",
        "grafico.show()"
      ],
      "metadata": {
        "id": "1xsJGDYpRdQf"
      },
      "execution_count": null,
      "outputs": []
    },
    {
      "cell_type": "code",
      "source": [
        "distribuicao_paga = graph.get_connections(id=page_id, connection_name='insights', metric='page_impressions_paid',\n",
        "                                                 since = '2022-02-02', until = '2022-05-04')\n",
        "distribuicao_paga"
      ],
      "metadata": {
        "id": "tmvVir1QbjPK"
      },
      "execution_count": null,
      "outputs": []
    },
    {
      "cell_type": "code",
      "source": [
        "numero_distribuicao_paga = []\n",
        "for i in distribuicao_paga['data'][0]['values']:\n",
        "  numero_distribuicao_paga.append(i['value'])\n",
        "numero_distribuicao_paga = np.array(numero_distribuicao_paga)"
      ],
      "metadata": {
        "id": "igEMJNoWuHMi"
      },
      "execution_count": null,
      "outputs": []
    },
    {
      "cell_type": "code",
      "source": [
        "numero_distribuicao_paga"
      ],
      "metadata": {
        "id": "ezbzRKQix3cO"
      },
      "execution_count": null,
      "outputs": []
    },
    {
      "cell_type": "code",
      "source": [
        "distribuicao_organica = graph.get_connections(id=page_id, connection_name='insights',\n",
        "                                                 metric='page_impressions_organic',\n",
        "                                                 since = '2022-02-02', until = '2022-05-04')\n",
        "distribuicao_organica"
      ],
      "metadata": {
        "id": "BBZp2pqpzBe_"
      },
      "execution_count": null,
      "outputs": []
    },
    {
      "cell_type": "code",
      "source": [
        "numero_distribuicao_organica = []\n",
        "for i in distribuicao_organica['data'][0]['values']:\n",
        "  numero_distribuicao_organica.append(i['value'])\n",
        "numero_distribuicao_organica = np.array(numero_distribuicao_organica)"
      ],
      "metadata": {
        "id": "Xjcqqi52y-1P"
      },
      "execution_count": null,
      "outputs": []
    },
    {
      "cell_type": "code",
      "source": [
        "numero_distribuicao_organica"
      ],
      "metadata": {
        "id": "cHcqtlPj0fLB"
      },
      "execution_count": null,
      "outputs": []
    },
    {
      "cell_type": "code",
      "source": [
        "distribuicao_viral = graph.get_connections(id=page_id, connection_name='insights',\n",
        "                                                 metric='page_impressions_viral',\n",
        "                                                 since = '2022-02-02', until = '2022-05-04')\n",
        "distribuicao_viral"
      ],
      "metadata": {
        "id": "DeIIouD70xkC"
      },
      "execution_count": null,
      "outputs": []
    },
    {
      "cell_type": "code",
      "source": [
        "numero_distribuicao_viral = []\n",
        "for i in distribuicao_viral['data'][0]['values']:\n",
        "  numero_distribuicao_viral.append(i['value'])\n",
        "numero_distribuicao_viral = np.array(numero_distribuicao_viral)"
      ],
      "metadata": {
        "id": "g0ugrtuK1FoS"
      },
      "execution_count": null,
      "outputs": []
    },
    {
      "cell_type": "code",
      "source": [
        "numero_distribuicao_viral"
      ],
      "metadata": {
        "id": "bsdlj8tP1Yea"
      },
      "execution_count": null,
      "outputs": []
    },
    {
      "cell_type": "code",
      "source": [
        "dataframe_facebook['numero distribuicao paga'] = numero_distribuicao_paga\n",
        "dataframe_facebook['numero distribuicao organica'] = numero_distribuicao_organica\n",
        "dataframe_facebook['numero distribuicao viral'] = numero_distribuicao_viral\n",
        "dataframe_facebook"
      ],
      "metadata": {
        "id": "_O2LIJqQ18h3"
      },
      "execution_count": null,
      "outputs": []
    },
    {
      "cell_type": "code",
      "source": [
        "grafico = px.line(title = 'Distribuição paga x orgânica x viral')\n",
        "grafico.add_scatter(x = dataframe_facebook['data'], y = dataframe_facebook['numero distribuicao paga'], name = 'Paga')\n",
        "grafico.add_scatter(x = dataframe_facebook['data'], y = dataframe_facebook['numero distribuicao organica'], name = 'Organica')\n",
        "grafico.add_scatter(x = dataframe_facebook['data'], y = dataframe_facebook['numero distribuicao viral'], name = 'Viral')\n",
        "grafico.show()"
      ],
      "metadata": {
        "id": "N2h5k3CI2zn_"
      },
      "execution_count": null,
      "outputs": []
    },
    {
      "cell_type": "code",
      "source": [
        "dataframe_facebook.columns"
      ],
      "metadata": {
        "id": "8B8oe1czP2WG"
      },
      "execution_count": null,
      "outputs": []
    },
    {
      "cell_type": "code",
      "source": [
        "dataframe_distribuicao = dataframe_facebook.iloc[:, [1,8,9,10]]\n",
        "dataframe_distribuicao"
      ],
      "metadata": {
        "id": "-dLThVJ6QMkW"
      },
      "execution_count": null,
      "outputs": []
    },
    {
      "cell_type": "code",
      "source": [
        "dataframe_distribuicao_normalizado = dataframe_distribuicao.copy()\n",
        "for i in dataframe_distribuicao_normalizado.columns[1:]:\n",
        "  #print(i)\n",
        "  dataframe_distribuicao_normalizado[i] = dataframe_distribuicao_normalizado[i] / dataframe_distribuicao_normalizado[i][0]"
      ],
      "metadata": {
        "id": "qQWE1geTRR_a"
      },
      "execution_count": null,
      "outputs": []
    },
    {
      "cell_type": "code",
      "source": [
        "dataframe_distribuicao_normalizado"
      ],
      "metadata": {
        "id": "Xt06SXUSTitQ"
      },
      "execution_count": null,
      "outputs": []
    },
    {
      "cell_type": "code",
      "source": [
        "grafico = px.line(title = 'Distribuição paga x orgânica x viral - normalizado')\n",
        "grafico.add_scatter(x = dataframe_facebook['data'], y = dataframe_facebook['numero distribuicao paga'], name = 'Paga')\n",
        "grafico.add_scatter(x = dataframe_facebook['data'], y = dataframe_facebook['numero distribuicao organica'], name = 'Organica')\n",
        "grafico.add_scatter(x = dataframe_facebook['data'], y = dataframe_facebook['numero distribuicao viral'], name = 'Viral')\n",
        "grafico.show()"
      ],
      "metadata": {
        "id": "1NKunf9CUMdL"
      },
      "execution_count": null,
      "outputs": []
    },
    {
      "cell_type": "code",
      "source": [
        "!pip install pmdarima"
      ],
      "metadata": {
        "id": "ALIzz0MNsYv0"
      },
      "execution_count": null,
      "outputs": []
    },
    {
      "cell_type": "code",
      "source": [
        "from statsmodels.tsa.seasonal import seasonal_decompose\n",
        "from pmdarima.arima import auto_arima"
      ],
      "metadata": {
        "id": "wje4aOSS0MoX"
      },
      "execution_count": null,
      "outputs": []
    },
    {
      "cell_type": "code",
      "source": [
        "dataframe_facebook"
      ],
      "metadata": {
        "id": "s9omglV23Cjb"
      },
      "execution_count": null,
      "outputs": []
    },
    {
      "cell_type": "code",
      "source": [
        "dataframe_facebook.to_csv('dataframe_facebook.csv')"
      ],
      "metadata": {
        "id": "V7Rj6FFRrtKW"
      },
      "execution_count": null,
      "outputs": []
    },
    {
      "cell_type": "code",
      "source": [
        "import datetime\n",
        "dateparse = lambda dates: datetime.datetime.strptime(dates, '%Y-%m-%d')\n",
        "dataframe_facebook = pd.read_csv('/content/dataframe_facebook.csv', parse_dates=['data'], index_col = 'data', date_parser = dateparse)\n",
        "dataframe_facebook"
      ],
      "metadata": {
        "id": "dTOnj4Y0sqBK"
      },
      "execution_count": null,
      "outputs": []
    },
    {
      "cell_type": "code",
      "source": [
        "ts_fas = dataframe_facebook.iloc[:, [1]]\n",
        "ts_fas"
      ],
      "metadata": {
        "id": "nihJRZXzDCc-"
      },
      "execution_count": null,
      "outputs": []
    },
    {
      "cell_type": "code",
      "source": [
        "decomposicao = seasonal_decompose(ts_fas)\n",
        "tendencia = decomposicao.trend\n",
        "sazonal = decomposicao.seasonal\n",
        "residuo = decomposicao.resid"
      ],
      "metadata": {
        "id": "xkDPXQue1Rti"
      },
      "execution_count": null,
      "outputs": []
    },
    {
      "cell_type": "code",
      "source": [
        "grafico = px.line(ts_fas, y = 'numero fas', title = 'Número de fãs por dia')\n",
        "grafico.show()"
      ],
      "metadata": {
        "id": "0uYTcsn9175c"
      },
      "execution_count": null,
      "outputs": []
    },
    {
      "cell_type": "code",
      "source": [
        "grafico = px.line(tendencia, title = 'Tendência')\n",
        "grafico.show()"
      ],
      "metadata": {
        "id": "CbsmzRxl2lzy"
      },
      "execution_count": null,
      "outputs": []
    },
    {
      "cell_type": "code",
      "source": [
        "grafico = px.line(sazonal, title = 'Sazonalidade')\n",
        "grafico.show()"
      ],
      "metadata": {
        "id": "jGhJK_8O2htO"
      },
      "execution_count": null,
      "outputs": []
    },
    {
      "cell_type": "code",
      "source": [
        "grafico = px.line(residuo, title = 'Residuos')\n",
        "grafico.show()"
      ],
      "metadata": {
        "id": "63cGIzpg3w1n"
      },
      "execution_count": null,
      "outputs": []
    },
    {
      "cell_type": "code",
      "source": [
        "arima = auto_arima(ts_fas)"
      ],
      "metadata": {
        "id": "FiYqi9IB4S-0"
      },
      "execution_count": null,
      "outputs": []
    },
    {
      "cell_type": "code",
      "source": [
        "arima.order"
      ],
      "metadata": {
        "id": "auHu8Qlp5sKw"
      },
      "execution_count": null,
      "outputs": []
    },
    {
      "cell_type": "code",
      "source": [
        "previsoes = pd.DataFrame(arima.predict(n_periods=30), columns=['previsao'])\n",
        "previsoes['previsao'] = np.round(previsoes['previsao']).astype(int)\n",
        "previsoes"
      ],
      "metadata": {
        "id": "bUitV5fJ6HES"
      },
      "execution_count": null,
      "outputs": []
    },
    {
      "cell_type": "code",
      "source": [
        "dias = pd.date_range(start = '2022-04-01', end = '2022-04-30')\n",
        "dias"
      ],
      "metadata": {
        "id": "ZQahyccV7dq7"
      },
      "execution_count": null,
      "outputs": []
    },
    {
      "cell_type": "code",
      "source": [
        "previsoes['data'] = dias\n",
        "previsoes.set_index('data', inplace=True)\n",
        "previsoes"
      ],
      "metadata": {
        "id": "vVYLIXyY8CBr"
      },
      "execution_count": null,
      "outputs": []
    },
    {
      "cell_type": "code",
      "source": [
        "fas_teste = graph.get_connections(id=page_id, connection_name='insights',\n",
        "                                  metric = 'page_fans', since = '2022-04-01' )\n",
        "fas_teste"
      ],
      "metadata": {
        "id": "bjNWH-eW-Swy"
      },
      "execution_count": null,
      "outputs": []
    },
    {
      "cell_type": "code",
      "source": [
        "fas_teste['data'][0]['values']"
      ],
      "metadata": {
        "id": "AkGUNHrrAC09"
      },
      "execution_count": null,
      "outputs": []
    },
    {
      "cell_type": "code",
      "source": [
        "fas_teste_df = pd.DataFrame(fas_teste['data'][0]['values'])\n",
        "fas_teste_df.rename(columns={'value': 'numero fas', 'end_time': 'data'}, inplace=True)\n",
        "fas_teste_df['data'] = pd.to_datetime(fas_teste_df['data'])\n",
        "fas_teste_df['data'] = fas_teste_df['data'].dt.strftime('%Y-%m-%d')\n",
        "fas_teste_df.set_index('data', inplace=True)\n",
        "fas_teste_df"
      ],
      "metadata": {
        "id": "U9HtceutATAA"
      },
      "execution_count": null,
      "outputs": []
    },
    {
      "cell_type": "code",
      "source": [
        "previsoes['2022-04-01':'2022-04-30']"
      ],
      "metadata": {
        "id": "PHKu9E3dBu4f"
      },
      "execution_count": null,
      "outputs": []
    },
    {
      "cell_type": "code",
      "source": [
        "from sklearn.metrics import mean_absolute_error\n",
        "mean_absolute_error(fas_teste_df['numero fas'], previsoes['2022-04-01':'2022-04-30']['previsao'])"
      ],
      "metadata": {
        "id": "koOMs9bKCXDY"
      },
      "execution_count": null,
      "outputs": []
    },
    {
      "cell_type": "code",
      "source": [
        "previsoes['2022-04-01':'2022-04-30']['previsao'] - fas_teste_df['numero fas']"
      ],
      "metadata": {
        "id": "J_xde17HDXO8"
      },
      "execution_count": null,
      "outputs": []
    },
    {
      "cell_type": "code",
      "source": [
        "sum(abs(previsoes['2022-04-26':'2022-04-30']['previsao'] - fas_teste_df['numero fas'])) / len(fas_teste_df)"
      ],
      "metadata": {
        "id": "eZRYRjbKEdah"
      },
      "execution_count": null,
      "outputs": []
    }
  ]
}